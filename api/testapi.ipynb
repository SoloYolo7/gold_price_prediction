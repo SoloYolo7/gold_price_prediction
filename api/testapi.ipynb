{
 "cells": [
  {
   "cell_type": "code",
   "execution_count": 8,
   "id": "e1b5e410",
   "metadata": {},
   "outputs": [],
   "source": [
    "import requests\n",
    "import pandas as pd"
   ]
  },
  {
   "cell_type": "code",
   "execution_count": 9,
   "id": "8c15e120",
   "metadata": {},
   "outputs": [],
   "source": [
    "API_URL = \"http://127.0.0.1:8000\""
   ]
  },
  {
   "cell_type": "code",
   "execution_count": 10,
   "id": "6061889f",
   "metadata": {},
   "outputs": [],
   "source": [
    "PATH_TO_CSV = '../sample_for_prediction.csv'"
   ]
  },
  {
   "cell_type": "code",
   "execution_count": 13,
   "id": "bf22db1c",
   "metadata": {},
   "outputs": [
    {
     "name": "stdout",
     "output_type": "stream",
     "text": [
      "--- Тестирование эндпоинта http://127.0.0.1:8000/predict ---\n",
      "Статус-код: 200\n",
      "Получено 20 предсказаний.\n",
      "Пример предсказаний: [4.543165683746338, 4.543586254119873, 4.582589626312256, 4.556201457977295, 4.5543131828308105, 4.595204830169678, 4.574950695037842, 4.60127592086792, 4.558080196380615, 4.576102256774902]\n"
     ]
    }
   ],
   "source": [
    "print(f\"--- Тестирование эндпоинта {API_URL}/predict ---\")\n",
    "\n",
    "try:\n",
    "    with open(PATH_TO_CSV, 'rb') as f:\n",
    "        files = {'file': (PATH_TO_CSV, f, 'text/csv')}\n",
    "        \n",
    "        response = requests.post(f\"{API_URL}/predict\", files=files)\n",
    "\n",
    "    print(f\"Статус-код: {response.status_code}\")\n",
    "\n",
    "    if response.status_code == 200:\n",
    "        predictions_data = response.json()\n",
    "        predictions = predictions_data.get('predictions', [])\n",
    "        print(f\"Получено {len(predictions)} предсказаний.\")\n",
    "        print(f\"Пример предсказаний: {predictions[:10]}\")\n",
    "    else:\n",
    "        print(f\"Ошибка от сервера: {response.text}\")\n",
    "\n",
    "except requests.exceptions.ConnectionError as e:\n",
    "    print(f\"Не удалось подключиться к API. Убедитесь, что FastAPI сервер запущен по адресу {API_URL}.\")\n",
    "    print(f\"Ошибка: {e}\")"
   ]
  },
  {
   "cell_type": "code",
   "execution_count": null,
   "id": "9070fa8b",
   "metadata": {},
   "outputs": [],
   "source": []
  }
 ],
 "metadata": {
  "kernelspec": {
   "display_name": ".venv",
   "language": "python",
   "name": "python3"
  },
  "language_info": {
   "codemirror_mode": {
    "name": "ipython",
    "version": 3
   },
   "file_extension": ".py",
   "mimetype": "text/x-python",
   "name": "python",
   "nbconvert_exporter": "python",
   "pygments_lexer": "ipython3",
   "version": "3.12.2"
  }
 },
 "nbformat": 4,
 "nbformat_minor": 5
}
